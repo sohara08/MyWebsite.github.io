{
 "cells": [
  {
   "cell_type": "markdown",
   "id": "e7a149",
   "metadata": {
    "collapsed": false
   },
   "source": [
    "**MA488 Project 3 \\- O'Hara**\n"
   ]
  },
  {
   "cell_type": "markdown",
   "id": "7c8b38",
   "metadata": {
    "collapsed": false
   },
   "source": [
    "1. **Data Gathering and Preparation**\n",
    "\n"
   ]
  },
  {
   "cell_type": "code",
   "execution_count": 17,
   "id": "1c97b4",
   "metadata": {
    "collapsed": false
   },
   "outputs": [
    {
     "name": "stdout",
     "output_type": "stream",
     "text": [
      "Requirement already satisfied: kaggle in c:\\users\\john.clausing\\appdata\\local\\anaconda3\\lib\\site-packages (1.6.17)\n",
      "Requirement already satisfied: six>=1.10 in c:\\users\\john.clausing\\appdata\\local\\anaconda3\\lib\\site-packages (from kaggle) (1.16.0)\n",
      "Requirement already satisfied: certifi>=2023.7.22 in c:\\users\\john.clausing\\appdata\\local\\anaconda3\\lib\\site-packages (from kaggle) (2024.8.30)\n",
      "Requirement already satisfied: python-dateutil in c:\\users\\john.clausing\\appdata\\local\\anaconda3\\lib\\site-packages (from kaggle) (2.9.0.post0)\n",
      "Requirement already satisfied: requests in c:\\users\\john.clausing\\appdata\\local\\anaconda3\\lib\\site-packages (from kaggle) (2.32.2)\n",
      "Requirement already satisfied: tqdm in c:\\users\\john.clausing\\appdata\\local\\anaconda3\\lib\\site-packages (from kaggle) (4.66.4)\n",
      "Requirement already satisfied: python-slugify in c:\\users\\john.clausing\\appdata\\local\\anaconda3\\lib\\site-packages (from kaggle) (5.0.2)\n",
      "Requirement already satisfied: urllib3 in c:\\users\\john.clausing\\appdata\\local\\anaconda3\\lib\\site-packages (from kaggle) (2.2.2)\n",
      "Requirement already satisfied: bleach in c:\\users\\john.clausing\\appdata\\local\\anaconda3\\lib\\site-packages (from kaggle) (4.1.0)\n",
      "Requirement already satisfied: packaging in c:\\users\\john.clausing\\appdata\\local\\anaconda3\\lib\\site-packages (from bleach->kaggle) (23.2)\n",
      "Requirement already satisfied: webencodings in c:\\users\\john.clausing\\appdata\\local\\anaconda3\\lib\\site-packages (from bleach->kaggle) (0.5.1)\n",
      "Requirement already satisfied: text-unidecode>=1.3 in c:\\users\\john.clausing\\appdata\\local\\anaconda3\\lib\\site-packages (from python-slugify->kaggle) (1.3)\n",
      "Requirement already satisfied: charset-normalizer<4,>=2 in c:\\users\\john.clausing\\appdata\\local\\anaconda3\\lib\\site-packages (from requests->kaggle) (2.0.4)\n",
      "Requirement already satisfied: idna<4,>=2.5 in c:\\users\\john.clausing\\appdata\\local\\anaconda3\\lib\\site-packages (from requests->kaggle) (3.7)\n",
      "Requirement already satisfied: colorama in c:\\users\\john.clausing\\appdata\\local\\anaconda3\\lib\\site-packages (from tqdm->kaggle) (0.4.6)\n",
      "Dataset URL: https://www.kaggle.com/datasets/snap/amazon-fine-food-reviews\n",
      "License(s): CC0-1.0\n",
      "amazon-fine-food-reviews.zip: Skipping, found more recently modified local copy (use --force to force download)\n"
     ]
    },
    {
     "name": "stderr",
     "output_type": "stream",
     "text": [
      "'unzip' is not recognized as an internal or external command,\n",
      "operable program or batch file.\n"
     ]
    }
   ],
   "source": [
    "# Data from Kaggle: https://www.kaggle.com/datasets/snap/amazon-fine-food-reviews/data\n",
    "\n",
    "!pip install kaggle\n",
    "!kaggle datasets download -d snap/amazon-fine-food-reviews\n",
    "! unzip amazon-fine-food-reviews.zip"
   ]
  },
  {
   "cell_type": "code",
   "execution_count": 18,
   "id": "1b11b1",
   "metadata": {
    "collapsed": false
   },
   "outputs": [],
   "source": [
    "# import libraries\n",
    "import os\n",
    "import pandas as pd\n",
    "from sklearn.model_selection import train_test_split\n",
    "from tensorflow.keras.preprocessing.text import Tokenizer\n",
    "from tensorflow.keras.preprocessing.sequence import pad_sequences\n",
    "from tensorflow.keras import models, layers\n",
    "import tensorflow as tf\n",
    "import numpy as np"
   ]
  },
  {
   "cell_type": "code",
   "execution_count": 19,
   "id": "4d1f09",
   "metadata": {
    "collapsed": false
   },
   "outputs": [
    {
     "name": "stdout",
     "output_type": "stream",
     "text": [
      "                                                Text   ProductId\n",
      "0  I have bought several of the Vitality canned d...  B001E4KFG0\n",
      "1  Product arrived labeled as Jumbo Salted Peanut...  B00813GRG4\n",
      "2  This is a confection that has been around a fe...  B000LQOCH0\n",
      "3  If you are looking for the secret ingredient i...  B000UA0QIQ\n",
      "4  Great taffy at a great price.  There was a wid...  B006K2ZZ7K\n"
     ]
    }
   ],
   "source": [
    "\n",
    "\n",
    "# lists to store the data\n",
    "texts = []\n",
    "labels = []\n",
    "\n",
    "csv_path = 'Reviews.csv'\n",
    "\n",
    "# Read csv into df\n",
    "df = pd.read_csv(csv_path)\n",
    "#print(df.columns)\n",
    "\n",
    "# Select the columns\n",
    "df = df[['Text', 'ProductId']]\n",
    "\n",
    "\n",
    "print(df.head())\n",
    "df.to_csv('amazon-fine-food-reviews-processed.csv', index=False)"
   ]
  },
  {
   "cell_type": "markdown",
   "id": "36bdef",
   "metadata": {
    "collapsed": false
   },
   "source": [
    "2. **Data Preprocessing**\n",
    "\n"
   ]
  },
  {
   "cell_type": "code",
   "execution_count": 20,
   "metadata": {},
   "outputs": [
    {
     "name": "stderr",
     "output_type": "stream",
     "text": [
      "[nltk_data] Downloading package punkt to\n",
      "[nltk_data]     C:\\Users\\john.clausing\\AppData\\Roaming\\nltk_data...\n",
      "[nltk_data]   Package punkt is already up-to-date!\n"
     ]
    }
   ],
   "source": [
    "from sklearn.feature_extraction.text import TfidfVectorizer\n",
    "import nltk\n",
    "nltk.download('punkt')\n",
    "from nltk.tokenize import word_tokenize, sent_tokenize\n",
    "\n",
    "\n",
    "tfidf_vectorizer = TfidfVectorizer(max_df=0.15, min_df=2, stop_words=\"english\") \n",
    "model = tfidf_vectorizer.fit_transform(df.Text)\n",
    "model\n",
    "\n",
    "from sklearn.decomposition import NMF\n",
    "\n",
    "nmf = NMF(beta_loss='frobenius', init=None, l1_ratio=0.0, max_iter=200,\n",
    "  n_components=8, random_state=42, shuffle=False, solver='cd', tol=0.0001,\n",
    "  verbose=0).fit(model)\n",
    "\n",
    "components_df = pd.DataFrame(nmf.components_, columns=tfidf_vectorizer.get_feature_names_out())"
   ]
  },
  {
   "cell_type": "code",
   "execution_count": 21,
   "metadata": {},
   "outputs": [
    {
     "name": "stdout",
     "output_type": "stream",
     "text": [
      "THE TOP 15 WORDS FOR TOPIC #0\n",
      "['drink', 'mix', 'free', 'try', 'sweet', 'tastes', 'tried', 've', 'make', 'don', 'little', 'sugar', 'water', 'use', 'really']\n",
      "\n",
      "\n",
      "THE TOP 15 WORDS FOR TOPIC #1\n",
      "['morning', 'coffees', 'flavored', 'dark', 'starbucks', 'smooth', 'blend', 'bitter', 'keurig', 'roast', 'bold', 'cups', 'strong', 'cup', 'coffee']\n",
      "\n",
      "\n",
      "THE TOP 15 WORDS FOR TOPIC #2\n",
      "['grey', 'strong', 'earl', 'hot', 'drinking', 'chai', 'cup', 'stash', 'black', 'bags', 'iced', 'drink', 'teas', 'green', 'tea']\n",
      "\n",
      "\n",
      "THE TOP 15 WORDS FOR TOPIC #3\n",
      "['old', 'wet', 'quality', 'ingredients', 'diet', 'feed', 'chicken', 'wellness', 'foods', 'canned', 'dry', 'eat', 'cats', 'cat', 'food']\n",
      "\n",
      "\n",
      "THE TOP 15 WORDS FOR TOPIC #4\n",
      "['com', 'pack', 'bought', 'ordered', 'time', 'box', 'grocery', 'shipping', 'stores', 'local', 'order', 'buy', 'store', 'price', 'amazon']\n",
      "\n",
      "\n",
      "THE TOP 15 WORDS FOR TOPIC #5\n",
      "['bones', 'smell', 'toy', 'puppy', 'bag', 'chew', 'size', 'teeth', 'small', 'training', 'treat', 'loves', 'dogs', 'treats', 'dog']\n",
      "\n",
      "\n",
      "THE TOP 15 WORDS FOR TOPIC #6\n",
      "['popchips', 'healthy', 'crunchy', 'eat', 'fat', 'salty', 'vinegar', 'kettle', 'bags', 'chip', 'snack', 'potato', 'bag', 'salt', 'chips']\n",
      "\n",
      "\n",
      "THE TOP 15 WORDS FOR TOPIC #7\n",
      "['candy', 'delicious', 'snack', 'cocoa', 'sweet', 'butter', 'milk', 'peanut', 'hot', 'cookie', 'dark', 'bar', 'bars', 'cookies', 'chocolate']\n",
      "\n",
      "\n"
     ]
    }
   ],
   "source": [
    "for topic in range(components_df.shape[0]):\n",
    "    tmp = components_df.iloc[topic].nlargest(15).index.to_list()\n",
    "    wordlist = []\n",
    "    for word in tmp:\n",
    "        wordlist.insert(0, word)\n",
    "    print(f'THE TOP 15 WORDS FOR TOPIC #{topic}')\n",
    "    print(wordlist)\n",
    "    print('\\n')"
   ]
  },
  {
   "cell_type": "code",
   "execution_count": 22,
   "metadata": {},
   "outputs": [],
   "source": [
    "newCol = tfidf_vectorizer.transform(df.Text)\n",
    "topics = nmf.transform(newCol)\n",
    "topicMatches = pd.DataFrame(topics).idxmax(axis=1)\n",
    "final = pd.concat([df, topicMatches], axis=1)\n",
    "final.columns = ['Text', 'ProductId', 'Topic']\n",
    "df = final"
   ]
  },
  {
   "cell_type": "code",
   "execution_count": 23,
   "metadata": {},
   "outputs": [
    {
     "data": {
      "text/html": [
       "<div>\n",
       "<style scoped>\n",
       "    .dataframe tbody tr th:only-of-type {\n",
       "        vertical-align: middle;\n",
       "    }\n",
       "\n",
       "    .dataframe tbody tr th {\n",
       "        vertical-align: top;\n",
       "    }\n",
       "\n",
       "    .dataframe thead th {\n",
       "        text-align: right;\n",
       "    }\n",
       "</style>\n",
       "<table border=\"1\" class=\"dataframe\">\n",
       "  <thead>\n",
       "    <tr style=\"text-align: right;\">\n",
       "      <th></th>\n",
       "      <th>ProductId</th>\n",
       "      <th>Topic</th>\n",
       "      <th>new_column</th>\n",
       "    </tr>\n",
       "  </thead>\n",
       "  <tbody>\n",
       "    <tr>\n",
       "      <th>0</th>\n",
       "      <td>0006641040</td>\n",
       "      <td>0</td>\n",
       "      <td>0</td>\n",
       "    </tr>\n",
       "    <tr>\n",
       "      <th>1</th>\n",
       "      <td>141278509X</td>\n",
       "      <td>0</td>\n",
       "      <td>0</td>\n",
       "    </tr>\n",
       "    <tr>\n",
       "      <th>2</th>\n",
       "      <td>2734888454</td>\n",
       "      <td>5</td>\n",
       "      <td>5</td>\n",
       "    </tr>\n",
       "    <tr>\n",
       "      <th>3</th>\n",
       "      <td>2841233731</td>\n",
       "      <td>3</td>\n",
       "      <td>3</td>\n",
       "    </tr>\n",
       "    <tr>\n",
       "      <th>4</th>\n",
       "      <td>7310172001</td>\n",
       "      <td>5</td>\n",
       "      <td>5</td>\n",
       "    </tr>\n",
       "    <tr>\n",
       "      <th>...</th>\n",
       "      <td>...</td>\n",
       "      <td>...</td>\n",
       "      <td>...</td>\n",
       "    </tr>\n",
       "    <tr>\n",
       "      <th>74253</th>\n",
       "      <td>B009UOFTUI</td>\n",
       "      <td>1</td>\n",
       "      <td>1</td>\n",
       "    </tr>\n",
       "    <tr>\n",
       "      <th>74254</th>\n",
       "      <td>B009UOFU20</td>\n",
       "      <td>1</td>\n",
       "      <td>1</td>\n",
       "    </tr>\n",
       "    <tr>\n",
       "      <th>74255</th>\n",
       "      <td>B009UUS05I</td>\n",
       "      <td>0</td>\n",
       "      <td>0</td>\n",
       "    </tr>\n",
       "    <tr>\n",
       "      <th>74256</th>\n",
       "      <td>B009WSNWC4</td>\n",
       "      <td>4</td>\n",
       "      <td>4</td>\n",
       "    </tr>\n",
       "    <tr>\n",
       "      <th>74257</th>\n",
       "      <td>B009WVB40S</td>\n",
       "      <td>4</td>\n",
       "      <td>4</td>\n",
       "    </tr>\n",
       "  </tbody>\n",
       "</table>\n",
       "<p>74258 rows × 3 columns</p>\n",
       "</div>"
      ],
      "text/plain": [
       "        ProductId Topic  new_column\n",
       "0      0006641040     0           0\n",
       "1      141278509X     0           0\n",
       "2      2734888454     5           5\n",
       "3      2841233731     3           3\n",
       "4      7310172001     5           5\n",
       "...           ...   ...         ...\n",
       "74253  B009UOFTUI     1           1\n",
       "74254  B009UOFU20     1           1\n",
       "74255  B009UUS05I     0           0\n",
       "74256  B009WSNWC4     4           4\n",
       "74257  B009WVB40S     4           4\n",
       "\n",
       "[74258 rows x 3 columns]"
      ]
     },
     "execution_count": 23,
     "metadata": {},
     "output_type": "execute_result"
    }
   ],
   "source": [
    "# (Allan), (cs95), (garg_ak0109), (Kohli), (Pandas.Dataframe.groupby), (Pandas.Dataframe.join)\n",
    "grouped_df = df.groupby(['ProductId'])\n",
    "grouped_df = grouped_df.agg(pd.Series.mode).reset_index()\n",
    "grouped_df = grouped_df[['ProductId', 'Topic']]\n",
    "grouped_df['new_column'] = [l[0] if isinstance(l, np.ndarray) else l for l in grouped_df['Topic']]\n",
    "grouped_df"
   ]
  },
  {
   "cell_type": "code",
   "execution_count": 24,
   "metadata": {},
   "outputs": [],
   "source": [
    "df = df[['Text', 'ProductId']]\n",
    "labeled_df = df.join(grouped_df.set_index('ProductId'), on='ProductId')\n",
    "labeled_df = labeled_df[['Text', 'ProductId', 'new_column']]\n",
    "labeled_df.columns = [['Text', 'ProductId', 'Topic']]\n",
    "df = labeled_df"
   ]
  },
  {
   "cell_type": "code",
   "execution_count": 25,
   "metadata": {},
   "outputs": [],
   "source": [
    "df.to_csv('amazon-fine-food-reviews-processed-one.csv', index=False)"
   ]
  },
  {
   "cell_type": "code",
   "execution_count": 26,
   "metadata": {},
   "outputs": [],
   "source": [
    "df1 = pd.read_csv('amazon-fine-food-reviews-processed-one.csv')"
   ]
  },
  {
   "cell_type": "code",
   "execution_count": 27,
   "id": "902994",
   "metadata": {
    "collapsed": false
   },
   "outputs": [
    {
     "name": "stdout",
     "output_type": "stream",
     "text": [
      "                                                     Text   ProductId  Topic  \\\n",
      "248450  This is a fine product,great taste much less s...  B00016LZT8      0   \n",
      "352186  You can't beat the price, but what I want from...  B0045GX66A      4   \n",
      "322917  I've tried just about every extra bold K cup a...  B006N3I3Q6      1   \n",
      "478562  This pepper packs a punch! I'm usually heavy h...  B002LLZX9E      0   \n",
      "183300  I've ALWAYS been partial to chips ahoy because...  B004U43ZO0      7   \n",
      "...                                                   ...         ...    ...   \n",
      "191543  The pet food industry can be one of the most i...  B000WFN0VO      3   \n",
      "529564  This blend isn't too harsh though.  Admittedly...  B0032CB15Q      1   \n",
      "243393  Well, our friends at Click have done it again!...  B00305L330      0   \n",
      "543705  This is much more convenient than buying and s...  B006MONQMC      0   \n",
      "557638  They arrived quickly and packaged well.  Item ...  B003ZXHE5I      7   \n",
      "\n",
      "        targets  \n",
      "248450        0  \n",
      "352186        4  \n",
      "322917        1  \n",
      "478562        0  \n",
      "183300        7  \n",
      "...         ...  \n",
      "191543        3  \n",
      "529564        1  \n",
      "243393        0  \n",
      "543705        0  \n",
      "557638        7  \n",
      "\n",
      "[397917 rows x 4 columns]\n"
     ]
    }
   ],
   "source": [
    "# map classes to integers from 0...k-1\n",
    "df1['targets'] = df1['Topic'].astype('category').cat.codes\n",
    "\n",
    "df_train, df_test = train_test_split(df1, test_size = 0.3)\n",
    "\n",
    "MAX_WORDS = 10000\n",
    "MAX_LEN = 100\n",
    "\n",
    "print(df_train)\n",
    "tokenizer = Tokenizer(num_words = MAX_WORDS, oov_token = '<OOV>')\n",
    "tokenizer.fit_on_texts(df_train['Text'])\n",
    "\n",
    "Xtrain = tokenizer.texts_to_sequences(df_train['Text'])\n",
    "Xtest = tokenizer.texts_to_sequences(df_test['Text'])\n",
    "\n",
    "Xtrain = pad_sequences(Xtrain, maxlen = MAX_LEN, padding = 'post', truncating = 'post')\n",
    "Xtest = pad_sequences(Xtest, maxlen = MAX_LEN, padding = 'post', truncating = 'post')\n",
    "\n",
    "Ytrain = df_train['targets']\n",
    "Ytest = df_test['targets']\n",
    "\n",
    "K = df1['targets'].max() + 1\n"
   ]
  },
  {
   "cell_type": "markdown",
   "id": "077ef2",
   "metadata": {
    "collapsed": false
   },
   "source": [
    "3. **Model Building and Training**\n",
    "\n"
   ]
  },
  {
   "cell_type": "code",
   "execution_count": 28,
   "id": "8ab125",
   "metadata": {
    "collapsed": false
   },
   "outputs": [],
   "source": [
    "# build model\n",
    "model = models.Sequential([\n",
    "    layers.Embedding(input_dim = MAX_WORDS, output_dim = 128),\n",
    "    layers.Conv1D(filters = 128, kernel_size = 5, activation = 'relu'),\n",
    "    layers.GlobalMaxPool1D(),\n",
    "    # 64 units (ouput dimension), relu activation\n",
    "    layers.Dense(64, activation='relu'),\n",
    "    layers.Dropout(0.5),\n",
    "    layers.Dense(K, activation = 'sigmoid')\n",
    "])\n",
    "\n",
    "# adam -- adjusts the learning rate for each individual parameter -- better at making the model learn\n",
    "model.compile(\n",
    "    loss = tf.keras.losses.SparseCategoricalCrossentropy,\n",
    "    optimizer = 'adam',\n",
    "    metrics = ['accuracy'])"
   ]
  },
  {
   "cell_type": "code",
   "execution_count": 29,
   "metadata": {},
   "outputs": [
    {
     "name": "stdout",
     "output_type": "stream",
     "text": [
      "Epoch 1/5\n",
      "\u001b[1m12435/12435\u001b[0m \u001b[32m━━━━━━━━━━━━━━━━━━━━\u001b[0m\u001b[37m\u001b[0m \u001b[1m161s\u001b[0m 13ms/step - accuracy: 0.7247 - loss: 0.8127 - val_accuracy: 0.8106 - val_loss: 0.5231\n",
      "Epoch 2/5\n",
      "\u001b[1m12435/12435\u001b[0m \u001b[32m━━━━━━━━━━━━━━━━━━━━\u001b[0m\u001b[37m\u001b[0m \u001b[1m155s\u001b[0m 12ms/step - accuracy: 0.8095 - loss: 0.5453 - val_accuracy: 0.8217 - val_loss: 0.4957\n",
      "Epoch 3/5\n",
      "\u001b[1m12435/12435\u001b[0m \u001b[32m━━━━━━━━━━━━━━━━━━━━\u001b[0m\u001b[37m\u001b[0m \u001b[1m155s\u001b[0m 12ms/step - accuracy: 0.8318 - loss: 0.4739 - val_accuracy: 0.8293 - val_loss: 0.4959\n",
      "Epoch 4/5\n",
      "\u001b[1m12435/12435\u001b[0m \u001b[32m━━━━━━━━━━━━━━━━━━━━\u001b[0m\u001b[37m\u001b[0m \u001b[1m152s\u001b[0m 12ms/step - accuracy: 0.8512 - loss: 0.4151 - val_accuracy: 0.8321 - val_loss: 0.5012\n",
      "Epoch 5/5\n",
      "\u001b[1m12435/12435\u001b[0m \u001b[32m━━━━━━━━━━━━━━━━━━━━\u001b[0m\u001b[37m\u001b[0m \u001b[1m156s\u001b[0m 13ms/step - accuracy: 0.8716 - loss: 0.3595 - val_accuracy: 0.8324 - val_loss: 0.5363\n"
     ]
    }
   ],
   "source": [
    "#Train the Model\n",
    "history = model.fit(\n",
    "    Xtrain, Ytrain,\n",
    "    validation_data = (Xtest, Ytest),\n",
    "    epochs = 5,\n",
    "    batch_size = 32\n",
    ")"
   ]
  },
  {
   "cell_type": "markdown",
   "id": "2296b1",
   "metadata": {
    "collapsed": false
   },
   "source": [
    "4. **Model Evaluation and Optimization**\n",
    "\n"
   ]
  },
  {
   "cell_type": "code",
   "execution_count": 30,
   "id": "9b593e",
   "metadata": {
    "collapsed": false
   },
   "outputs": [
    {
     "name": "stdout",
     "output_type": "stream",
     "text": [
      "\u001b[1m5330/5330\u001b[0m \u001b[32m━━━━━━━━━━━━━━━━━━━━\u001b[0m\u001b[37m\u001b[0m \u001b[1m21s\u001b[0m 4ms/step - accuracy: 0.8318 - loss: 0.5368\n",
      "Test Accuracy: 83.24%\n"
     ]
    }
   ],
   "source": [
    "loss, accuracy = model.evaluate(Xtest, Ytest)\n",
    "print(f\"Test Accuracy: {accuracy * 100:.2f}%\")"
   ]
  },
  {
   "cell_type": "markdown",
   "id": "6fe6ff",
   "metadata": {
    "collapsed": false
   },
   "source": [
    "5. **Reporting Results and Insights**\n",
    "\n"
   ]
  },
  {
   "cell_type": "code",
   "execution_count": 34,
   "id": "2c8146",
   "metadata": {
    "collapsed": false
   },
   "outputs": [
    {
     "name": "stdout",
     "output_type": "stream",
     "text": [
      "\u001b[1m12435/12435\u001b[0m \u001b[32m━━━━━━━━━━━━━━━━━━━━\u001b[0m\u001b[37m\u001b[0m \u001b[1m51s\u001b[0m 4ms/step\n",
      "\u001b[1m5330/5330\u001b[0m \u001b[32m━━━━━━━━━━━━━━━━━━━━\u001b[0m\u001b[37m\u001b[0m \u001b[1m23s\u001b[0m 4ms/step\n",
      "Train Accuracy : 0.9061060472410075\n",
      "Test  Accuracy : 0.832429326187279\n",
      "\n",
      "Classification Report : \n",
      "                    precision    recall  f1-score   support\n",
      "\n",
      "             Drink       0.78      0.87      0.83     57885\n",
      "            Coffee       0.93      0.95      0.94     21580\n",
      "               Tea       0.95      0.92      0.93     15335\n",
      "           Catfood       0.91      0.85      0.88     11390\n",
      "Shipping(Nonsense)       0.67      0.53      0.59     26703\n",
      "           Dogfood       0.93      0.92      0.92     14092\n",
      "            Snacks       0.91      0.87      0.89      8154\n",
      "            Sweets       0.84      0.84      0.84     15398\n",
      "\n",
      "          accuracy                           0.83    170537\n",
      "         macro avg       0.86      0.84      0.85    170537\n",
      "      weighted avg       0.83      0.83      0.83    170537\n",
      "\n"
     ]
    },
    {
     "data": {
      "image/png": "[encoded data removed]",
      "text/plain": [
       "<Figure size 1200x500 with 2 Axes>"
      ]
     },
     "metadata": {},
     "output_type": "display_data"
    }
   ],
   "source": [
    "# add a graph here showing the loss per iteration\n",
    "#(Solanki)\n",
    "import matplotlib.pyplot as plt\n",
    "import numpy as np\n",
    "\n",
    "def plot_loss_and_acc(history):\n",
    "    train_loss = history.history[\"loss\"]\n",
    "    train_acc = history.history[\"accuracy\"]\n",
    "    val_loss = history.history[\"val_loss\"]\n",
    "    val_acc = history.history[\"val_accuracy\"]\n",
    "\n",
    "    fig = plt.figure(figsize=(12,5))\n",
    "\n",
    "    ax = fig.add_subplot(121)\n",
    "    ax.plot(range(len(train_loss)), train_loss, label=\"Train Loss\");\n",
    "    ax.plot(range(len(val_loss)), val_loss, label=\"Validation Loss\");\n",
    "    plt.xlabel(\"Epochs\"); plt.ylabel(\"Loss\");\n",
    "    plt.title(\"Train Loss vs Validation Loss\");\n",
    "    plt.legend(loc=\"best\");\n",
    "\n",
    "    ax = fig.add_subplot(122)\n",
    "    ax.plot(range(len(train_acc)), train_acc, label=\"Train Accuracy\");\n",
    "    ax.plot(range(len(val_acc)), val_acc, label=\"Validation Accuracy\");\n",
    "    plt.xlabel(\"Epochs\"); plt.ylabel(\"Accuracy\");\n",
    "    plt.title(\"Train Accuracy vs Validation Accuracy\");\n",
    "    plt.legend(loc=\"best\");\n",
    "\n",
    "plot_loss_and_acc(history)\n",
    "\n",
    "# F1 score per category\n",
    "from sklearn.metrics import accuracy_score, classification_report\n",
    "\n",
    "train_preds = model.predict(Xtrain)\n",
    "test_preds = model.predict(Xtest)\n",
    "print(\"Train Accuracy : {}\".format(accuracy_score(Ytrain, np.argmax(train_preds, axis=1))))\n",
    "print(\"Test  Accuracy : {}\".format(accuracy_score(Ytest, np.argmax(test_preds, axis=1))))\n",
    "print(\"\\nClassification Report : \")\n",
    "print(classification_report(Ytest, np.argmax(test_preds, axis=1), target_names=['Drink','Coffee', 'Tea', 'Catfood', 'Shipping(Nonsense)','Dogfood', 'Snacks', 'Sweets']))"
   ]
  },
  {
   "cell_type": "markdown",
   "id": "ff7460",
   "metadata": {
    "collapsed": false
   },
   "source": [
    "Write a quick paragraph highlighting:\n",
    "\n",
    "- Model findings\n",
    "- Performance metrics\n",
    "- Suggested improvements\n",
    "\n"
   ]
  },
  {
   "cell_type": "markdown",
   "metadata": {},
   "source": [
    "After establishing this model, it can be seen that it classifies the products based off the LDiA topics moderately well as it has an accuraccy of around 83%. From the graphs, it can also be seen that the model began to start to reach overfitting at epoch 4, so that is why it only ran 4 epochs. In terms of metrics, the Coffee category performed the bes with an F1 score of 0.95 and the Shipping(Nonsense) category performed the worst with an F1 score of 0.59. This is likely due to the Shipping(Nonsense) category being used as a miscellaneous set by the model. What is also interesting is that the metrics do not necessarily become better for the more entries per category. In order to improve this project, the dataset should have a labeled category section predefined because the LDiA classification is just an approximation and not 100% accurate to the actual product categories. Since that was the only way to get product categories though, we had to use it."
   ]
  },
  {
   "cell_type": "markdown",
   "id": "0521bf",
   "metadata": {
    "collapsed": false
   },
   "source": [
    "**Key Questions for the Project**\n",
    "\n",
    "1. How effective is the CNN at performing multi\\-label classification on Amazon reviews?\n",
    "   1. The CNN was moderately effective at performing the multi label classification on the Amazon reviews. Since there was no product categorical variable as mentioned in the instructions, we defined our own using the LDia from the previous assignment. Overall the model performed moderately well with an accuracy of 83% and that average is being brought down significantly by the Shipping(Nonsense) category. While this is not great, it is better than random assignment.\n",
    "2. What preprocessing steps improve CNN performance?\n",
    "   1. Removing stopwords, tokenizing the data and padding improve CNN performance. By removing stopwords and tokenizing the data prior to analysis, the algorithm only has to analyze the relevant data for the CNN. Additionally, padding allows for equal analysis of all words since each word gets analyzed the same amount of times with padding. \n",
    "3. Do different CNN kernel sizes and pooling methods enhance pattern recognition in product categories?\n",
    "   1. By varying the kernel size of a CNN, different amounts of words are able to be analyzed at a time. However, increasing the kernel size also will reduced the dimension of the data after pooling. While this is generally a good thing, too large of a kernel can lead to an ineffective model. When effectively used, these methods allow for dimension reduction that makes it easier for the CNN model to identify key features in the data without having to analyze the noise.(Geeks for Geeks)\n",
    "4. Which categories are challenging to classify, and why?\n",
    "   1. The Shipping(nonsense) category value scores are more challenging to classify since this is an abstract categorization that seems to just bin all the products that could not fit into one of the other main topics. Therefore, this category does not mean much in the overall sense of the data.\n",
    "5. How does the CNN compare to baseline models like Logistic Regression for multi\\-label classification?\n",
    "   1. Unlike other models, CNNs take into account the order of data, so this allows for greater depth in classification. THe caveat though is that these models oftentimes take longer to run. Additionally, models like Logistic Regression, are only designed to do binary classifications, so multi class logistic regressions would involve multiple logistic regressions. (Sucky)\n",
    "\n",
    "Works Cited\n",
    "1. Allan, Dan. “Looking for Pandas “Ungroup By” Operation Opposite to .Groupby in the Following String Aggregation?” Stack Overflow, 21 Nov. 2013, stackoverflow.com/questions/20122521/looking-for-pandas-ungroup-by-operation-opposite-to-groupby-in-the-following.\n",
    "   1. This source was used to identify how to ungroup a dataframe like in r.\n",
    "2. cs95. “Getting the First Element from Each List in a Column of Lists.” Stack Overflow, 15 Jan. 2019, stackoverflow.com/questions/54203440/getting-the-first-element-from-each-list-in-a-column-of-lists.\n",
    "   1. After using the mode command, products that were multimodal were stored as lists of modes. To use it in the model, only one entry could be used. This source showed how to select the first entry.\n",
    "3. garg_ak0109. “Python | Check If a given Object Is a List or Not.” GeeksforGeeks, 19 Mar. 2019, www.geeksforgeeks.org/python-check-if-a-given-object-is-list-or-not/.\n",
    "   1. This was used to identify whether the object was a list for when it took the first entry.\n",
    "4. GeeksforGeeks. “CNN | Introduction to Pooling Layer.” GeeksforGeeks, 5 Aug. 2019, www.geeksforgeeks.org/cnn-introduction-to-pooling-layer/. \n",
    "   1. This source was used to better understand how pooling layers work. What was learned from this was used to answer question 3.\n",
    "5. Kohli, Sachin. “How to Use .Mode with Groupby.” Stack Overflow, 2024, stackoverflow.com/questions/74055486/how-to-use-mode-with-groupby.\n",
    "   1. This source showed how to find the mode per product id.\n",
    "6. “Pandas.DataFrame.groupby — Pandas 1.3.0 Documentation.” Pandas.pydata.org, pandas.pydata.org/pandas-docs/stable/reference/api/pandas.DataFrame.groupby.html.\n",
    "   1. This showed how to use the groupby command.\n",
    "7. “Pandas.DataFrame.join — Pandas 2.2.1 Documentation.” Pandas.pydata.org, pandas.pydata.org/pandas-docs/stable/reference/api/pandas.DataFrame.join.html.\n",
    "   1. This showed how to join dataframes.\n",
    "8. Solanki, Sunny. “Keras: CNNs with Conv1D for Text Classification Tasks.” Coderzcolumn.com, CoderzColumn, 2022, coderzcolumn.com/tutorials/artificial-intelligence/\n",
    "keras-cnn-with-conv1d-for-text-classification. \n",
    "   1. This source was used to see how the geeral process for the code should work and specifically for the graphs and classification report sections.\n",
    "9. Sucky, Rashida Nasrin. “Multiclass Classification Algorithm from Scratch with a Project in Python: Step by Step Guide.” Medium, 3 Nov. 2020, towardsdatascience.com/multiclass-classification-algorithm-from-scratch-with-a-project-in-python-step-by-step-guide-485a83c79992.\n",
    "   1. This source was used to get an understanding of logistic regressions and multiclass logistic regressions. The information was then used to answer question 5."
   ]
  }
 ],
 "metadata": {
  "kernelspec": {
   "display_name": "base",
   "language": "python",
   "name": "python3"
  },
  "language_info": {
   "codemirror_mode": {
    "name": "ipython",
    "version": 3
   },
   "file_extension": ".py",
   "mimetype": "text/x-python",
   "name": "python",
   "nbconvert_exporter": "python",
   "pygments_lexer": "ipython3",
   "version": "3.12.3"
  }
 },
 "nbformat": 4,
 "nbformat_minor": 4
}
